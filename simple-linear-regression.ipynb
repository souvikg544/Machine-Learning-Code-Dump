{
 "cells": [
  {
   "cell_type": "code",
   "execution_count": 1,
   "id": "9f57fe2f",
   "metadata": {
    "_cell_guid": "b1076dfc-b9ad-4769-8c92-a6c4dae69d19",
    "_uuid": "8f2839f25d086af736a60e9eeb907d3b93b6e0e5",
    "execution": {
     "iopub.execute_input": "2022-07-21T18:31:34.855591Z",
     "iopub.status.busy": "2022-07-21T18:31:34.854957Z",
     "iopub.status.idle": "2022-07-21T18:31:34.869169Z",
     "shell.execute_reply": "2022-07-21T18:31:34.868270Z"
    },
    "papermill": {
     "duration": 0.023106,
     "end_time": "2022-07-21T18:31:34.871537",
     "exception": false,
     "start_time": "2022-07-21T18:31:34.848431",
     "status": "completed"
    },
    "tags": []
   },
   "outputs": [],
   "source": [
    "# This Python 3 environment comes with many helpful analytics libraries installed\n",
    "# It is defined by the kaggle/python Docker image: https://github.com/kaggle/docker-python\n",
    "# For example, here's several helpful packages to load\n",
    "\n",
    "import numpy as np # linear algebra\n",
    "import pandas as pd # data processing, CSV file I/O (e.g. pd.read_csv)\n",
    "\n",
    "# Input data files are available in the read-only \"../input/\" directory\n",
    "# For example, running this (by clicking run or pressing Shift+Enter) will list all files under the input directory\n",
    "\n",
    "import os\n",
    "for dirname, _, filenames in os.walk('/kaggle/input'):\n",
    "    for filename in filenames:\n",
    "        print(os.path.join(dirname, filename))\n",
    "\n",
    "# You can write up to 20GB to the current directory (/kaggle/working/) that gets preserved as output when you create a version using \"Save & Run All\" \n",
    "# You can also write temporary files to /kaggle/temp/, but they won't be saved outside of the current session"
   ]
  },
  {
   "cell_type": "code",
   "execution_count": 2,
   "id": "84630fe7",
   "metadata": {
    "execution": {
     "iopub.execute_input": "2022-07-21T18:31:34.883990Z",
     "iopub.status.busy": "2022-07-21T18:31:34.883139Z",
     "iopub.status.idle": "2022-07-21T18:31:36.114519Z",
     "shell.execute_reply": "2022-07-21T18:31:36.113496Z"
    },
    "papermill": {
     "duration": 1.238925,
     "end_time": "2022-07-21T18:31:36.116971",
     "exception": false,
     "start_time": "2022-07-21T18:31:34.878046",
     "status": "completed"
    },
    "tags": []
   },
   "outputs": [],
   "source": [
    "import seaborn as sns\n",
    "import matplotlib.pyplot as plt"
   ]
  },
  {
   "cell_type": "markdown",
   "id": "b5e93ec7",
   "metadata": {
    "papermill": {
     "duration": 0.003694,
     "end_time": "2022-07-21T18:31:36.124647",
     "exception": false,
     "start_time": "2022-07-21T18:31:36.120953",
     "status": "completed"
    },
    "tags": []
   },
   "source": [
    "** Hello Everyone. Lets start machine learning a bit .Here I will be starting with minimizing the cost function of linear regression**"
   ]
  },
  {
   "cell_type": "markdown",
   "id": "37400202",
   "metadata": {
    "papermill": {
     "duration": 0.003624,
     "end_time": "2022-07-21T18:31:36.132072",
     "exception": false,
     "start_time": "2022-07-21T18:31:36.128448",
     "status": "completed"
    },
    "tags": []
   },
   "source": []
  },
  {
   "cell_type": "code",
   "execution_count": 3,
   "id": "a814b425",
   "metadata": {
    "execution": {
     "iopub.execute_input": "2022-07-21T18:31:36.141395Z",
     "iopub.status.busy": "2022-07-21T18:31:36.140953Z",
     "iopub.status.idle": "2022-07-21T18:31:36.146088Z",
     "shell.execute_reply": "2022-07-21T18:31:36.145169Z"
    },
    "papermill": {
     "duration": 0.012089,
     "end_time": "2022-07-21T18:31:36.147992",
     "exception": false,
     "start_time": "2022-07-21T18:31:36.135903",
     "status": "completed"
    },
    "tags": []
   },
   "outputs": [],
   "source": [
    "X=2 * np.random.rand(100,1)\n",
    "y=4+ 3*X + np.random.randn(100,1)"
   ]
  },
  {
   "cell_type": "code",
   "execution_count": 4,
   "id": "9ba36c0d",
   "metadata": {
    "execution": {
     "iopub.execute_input": "2022-07-21T18:31:36.157473Z",
     "iopub.status.busy": "2022-07-21T18:31:36.156618Z",
     "iopub.status.idle": "2022-07-21T18:31:36.391383Z",
     "shell.execute_reply": "2022-07-21T18:31:36.390424Z"
    },
    "papermill": {
     "duration": 0.241867,
     "end_time": "2022-07-21T18:31:36.393709",
     "exception": false,
     "start_time": "2022-07-21T18:31:36.151842",
     "status": "completed"
    },
    "tags": []
   },
   "outputs": [
    {
     "data": {
      "text/plain": [
       "<matplotlib.collections.PathCollection at 0x7f5aeff69d10>"
      ]
     },
     "execution_count": 4,
     "metadata": {},
     "output_type": "execute_result"
    },
    {
     "data": {
      "image/png": "[encoded data removed]",
      "text/plain": [
       "<Figure size 432x288 with 1 Axes>"
      ]
     },
     "metadata": {
      "needs_background": "light"
     },
     "output_type": "display_data"
    }
   ],
   "source": [
    "plt.scatter(X,y)"
   ]
  },
  {
   "cell_type": "code",
   "execution_count": 5,
   "id": "7938f4fe",
   "metadata": {
    "execution": {
     "iopub.execute_input": "2022-07-21T18:31:36.405502Z",
     "iopub.status.busy": "2022-07-21T18:31:36.403606Z",
     "iopub.status.idle": "2022-07-21T18:31:36.409496Z",
     "shell.execute_reply": "2022-07-21T18:31:36.408815Z"
    },
    "papermill": {
     "duration": 0.013448,
     "end_time": "2022-07-21T18:31:36.411528",
     "exception": false,
     "start_time": "2022-07-21T18:31:36.398080",
     "status": "completed"
    },
    "tags": []
   },
   "outputs": [],
   "source": [
    "X_b=np.c_[np.ones((100,1)),X]"
   ]
  },
  {
   "cell_type": "code",
   "execution_count": 6,
   "id": "78f87b8e",
   "metadata": {
    "execution": {
     "iopub.execute_input": "2022-07-21T18:31:36.421924Z",
     "iopub.status.busy": "2022-07-21T18:31:36.421530Z",
     "iopub.status.idle": "2022-07-21T18:31:36.427459Z",
     "shell.execute_reply": "2022-07-21T18:31:36.426707Z"
    },
    "papermill": {
     "duration": 0.013609,
     "end_time": "2022-07-21T18:31:36.429493",
     "exception": false,
     "start_time": "2022-07-21T18:31:36.415884",
     "status": "completed"
    },
    "tags": []
   },
   "outputs": [],
   "source": [
    "theta_best=np.linalg.inv(X_b.T.dot(X_b)).dot(X_b.T).dot(y)"
   ]
  },
  {
   "cell_type": "code",
   "execution_count": 7,
   "id": "4626cc90",
   "metadata": {
    "execution": {
     "iopub.execute_input": "2022-07-21T18:31:36.442528Z",
     "iopub.status.busy": "2022-07-21T18:31:36.442053Z",
     "iopub.status.idle": "2022-07-21T18:31:36.448264Z",
     "shell.execute_reply": "2022-07-21T18:31:36.446932Z"
    },
    "papermill": {
     "duration": 0.019894,
     "end_time": "2022-07-21T18:31:36.453838",
     "exception": false,
     "start_time": "2022-07-21T18:31:36.433944",
     "status": "completed"
    },
    "tags": []
   },
   "outputs": [
    {
     "data": {
      "text/plain": [
       "array([[4.02238573],\n",
       "       [2.91875005]])"
      ]
     },
     "execution_count": 7,
     "metadata": {},
     "output_type": "execute_result"
    }
   ],
   "source": [
    "theta_best"
   ]
  },
  {
   "cell_type": "code",
   "execution_count": 8,
   "id": "12b9e1a7",
   "metadata": {
    "execution": {
     "iopub.execute_input": "2022-07-21T18:31:36.470679Z",
     "iopub.status.busy": "2022-07-21T18:31:36.470049Z",
     "iopub.status.idle": "2022-07-21T18:31:36.477432Z",
     "shell.execute_reply": "2022-07-21T18:31:36.476262Z"
    },
    "papermill": {
     "duration": 0.017375,
     "end_time": "2022-07-21T18:31:36.479593",
     "exception": false,
     "start_time": "2022-07-21T18:31:36.462218",
     "status": "completed"
    },
    "tags": []
   },
   "outputs": [],
   "source": [
    "X_new=np.array([[0],[2]])\n",
    "X_new_b=np.c_[np.ones((2,1)),X_new]\n",
    "y_predict=X_new_b.dot(theta_best)"
   ]
  },
  {
   "cell_type": "code",
   "execution_count": 9,
   "id": "062d50b4",
   "metadata": {
    "execution": {
     "iopub.execute_input": "2022-07-21T18:31:36.491423Z",
     "iopub.status.busy": "2022-07-21T18:31:36.490492Z",
     "iopub.status.idle": "2022-07-21T18:31:36.498864Z",
     "shell.execute_reply": "2022-07-21T18:31:36.497743Z"
    },
    "papermill": {
     "duration": 0.01678,
     "end_time": "2022-07-21T18:31:36.500909",
     "exception": false,
     "start_time": "2022-07-21T18:31:36.484129",
     "status": "completed"
    },
    "tags": []
   },
   "outputs": [
    {
     "data": {
      "text/plain": [
       "array([[4.02238573],\n",
       "       [9.85988584]])"
      ]
     },
     "execution_count": 9,
     "metadata": {},
     "output_type": "execute_result"
    }
   ],
   "source": [
    "y_predict"
   ]
  },
  {
   "cell_type": "code",
   "execution_count": 10,
   "id": "1399ea18",
   "metadata": {
    "execution": {
     "iopub.execute_input": "2022-07-21T18:31:36.513874Z",
     "iopub.status.busy": "2022-07-21T18:31:36.512448Z",
     "iopub.status.idle": "2022-07-21T18:31:36.663254Z",
     "shell.execute_reply": "2022-07-21T18:31:36.662322Z"
    },
    "papermill": {
     "duration": 0.159528,
     "end_time": "2022-07-21T18:31:36.665518",
     "exception": false,
     "start_time": "2022-07-21T18:31:36.505990",
     "status": "completed"
    },
    "tags": []
   },
   "outputs": [
    {
     "data": {
      "text/plain": [
       "[<matplotlib.lines.Line2D at 0x7f5aedd140d0>]"
      ]
     },
     "execution_count": 10,
     "metadata": {},
     "output_type": "execute_result"
    },
    {
     "data": {
      "image/png": "[encoded data removed]",
      "text/plain": [
       "<Figure size 432x288 with 1 Axes>"
      ]
     },
     "metadata": {
      "needs_background": "light"
     },
     "output_type": "display_data"
    }
   ],
   "source": [
    "plt.scatter(X,y)\n",
    "plt.plot(X_new,y_predict)"
   ]
  }
 ],
 "metadata": {
  "kernelspec": {
   "display_name": "Python 3",
   "language": "python",
   "name": "python3"
  },
  "language_info": {
   "codemirror_mode": {
    "name": "ipython",
    "version": 3
   },
   "file_extension": ".py",
   "mimetype": "text/x-python",
   "name": "python",
   "nbconvert_exporter": "python",
   "pygments_lexer": "ipython3",
   "version": "3.7.12"
  },
  "papermill": {
   "default_parameters": {},
   "duration": 13.405165,
   "end_time": "2022-07-21T18:31:37.392248",
   "environment_variables": {},
   "exception": null,
   "input_path": "__notebook__.ipynb",
   "output_path": "__notebook__.ipynb",
   "parameters": {},
   "start_time": "2022-07-21T18:31:23.987083",
   "version": "2.3.4"
  }
 },
 "nbformat": 4,
 "nbformat_minor": 5
}
